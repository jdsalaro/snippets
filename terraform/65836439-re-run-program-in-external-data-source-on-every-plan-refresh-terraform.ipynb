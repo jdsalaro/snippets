{
 "cells": [
  {
   "cell_type": "code",
   "execution_count": 103,
   "metadata": {
    "scrolled": true
   },
   "outputs": [
    {
     "name": "stdout",
     "output_type": "stream",
     "text": [
      "Terraform v0.14.5"
     ]
    }
   ],
   "source": [
    "%%bash\n",
    "terraform version"
   ]
  },
  {
   "cell_type": "code",
   "execution_count": 104,
   "metadata": {},
   "outputs": [],
   "source": [
    "%%bash\n",
    "TERRAFORM=$(cat <<EOF\n",
    "data \"external\" \"hello\" {\n",
    "    program = [\"bash\", \"-c\", \"echo 'Hello World!' > helloworld.txt; echo -n '{\\\"hello\\\":\\\"world!\\\"}'\"]\n",
    "}\n",
    "\n",
    "resource \"null_resource\" \"world\" {\n",
    "  provisioner \"local-exec\" {\n",
    "    command = \"echo '\\${data.external.hello.result[\"hello\"]}'\"\n",
    "  }\n",
    "#triggers = { timestamp = \"\\${timestamp()}\" }\n",
    "}\n",
    "EOF\n",
    ")\n",
    "cat <<<$TERRAFORM > test.tf"
   ]
  },
  {
   "cell_type": "code",
   "execution_count": 105,
   "metadata": {},
   "outputs": [
    {
     "name": "stdout",
     "output_type": "stream",
     "text": [
      "data \"external\" \"hello\" {\r\n",
      "    program = [\"bash\", \"-c\", \"echo 'Hello World!' > helloworld.txt; echo -n '{\\\"hello\\\":\\\"world!\\\"}'\"]\r\n",
      "}\r\n",
      "\r\n",
      "resource \"null_resource\" \"world\" {\r\n",
      "  provisioner \"local-exec\" {\r\n",
      "    command = \"echo '${data.external.hello.result[\"hello\"]}'\"\r\n",
      "  }\r\n",
      "#triggers = { timestamp = \"${timestamp()}\" }\r\n",
      "}\r\n"
     ]
    }
   ],
   "source": [
    "!cat test.tf"
   ]
  },
  {
   "cell_type": "code",
   "execution_count": 106,
   "metadata": {},
   "outputs": [
    {
     "name": "stdout",
     "output_type": "stream",
     "text": [
      "23:57:27.428182911 helloworld.txt\n",
      "23:57:28.788126451 helloworld.txt\n",
      "23:57:30.136070466 helloworld.txt\n",
      "23:57:31.416017284 helloworld.txt\n",
      "23:57:32.671965081 helloworld.txt\n"
     ]
    }
   ],
   "source": [
    "%%bash \n",
    "for i in {1..5};\n",
    "do\n",
    "terraform plan &> /dev/null\n",
    "ls -hl --full-time helloworld.txt | cut -d ' ' -f 7,9\n",
    "done "
   ]
  }
 ],
 "metadata": {
  "kernelspec": {
   "display_name": "Python 3",
   "language": "python",
   "name": "python3"
  },
  "language_info": {
   "codemirror_mode": {
    "name": "ipython",
    "version": 3
   },
   "file_extension": ".py",
   "mimetype": "text/x-python",
   "name": "python",
   "nbconvert_exporter": "python",
   "pygments_lexer": "ipython3",
   "version": "3.8.5"
  }
 },
 "nbformat": 4,
 "nbformat_minor": 4
}
