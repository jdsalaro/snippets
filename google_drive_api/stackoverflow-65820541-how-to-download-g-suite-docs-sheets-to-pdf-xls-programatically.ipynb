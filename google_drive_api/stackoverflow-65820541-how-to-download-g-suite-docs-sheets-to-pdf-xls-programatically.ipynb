{
 "cells": [
  {
   "attachments": {},
   "cell_type": "markdown",
   "metadata": {},
   "source": [
    "# Question\n",
    "\n",
    "## [[link](https://stackoverflow.com/questions/65820541/how-to-download-g-suite-docs-sheets-to-pdf-xls-programatically)] How to Download G Suite docs/sheets to pdf/xls programatically?\n",
    "\n",
    "I'm trying to download a Google doc to PDF or Sheet to XLS given an ID programmatically from the CLI.\n",
    "\n",
    "Steps I've tried so far:\n",
    "\n",
    "1. Contact support, but can't see a (?) help icon\n",
    "1. Google for 10 minutes... I think Google Drive API does this (not sure)\n",
    "1. Enable the [Google Drive API](https://developers.google.com/drive/api/v3/enable-drive-api)\n",
    "1. Signed up for a GCP project\n",
    "1. Navigated thought the UI to [enable the API](https://console.cloud.google.com/apis/library/drive.googleapis.com)\n",
    "1. Trying the [GET API](https://developers.google.com/drive/api/v3/reference/about/get) results in 400 Invalid field selection using the fields for the ID of the document\n",
    "\n",
    "I'm a bit stuck now and I am not sure how to proceed. Any suggestions?\n",
    "\n",
    "## Answer "
   ]
  },
  {
   "cell_type": "code",
   "execution_count": 1,
   "metadata": {
    "scrolled": false
   },
   "outputs": [
    {
     "name": "stdout",
     "output_type": "stream",
     "text": [
      "Collecting google-api-python-client\n",
      "  Downloading google_api_python_client ...\n",
      "Successfully installed google-api-python-client...\n"
     ]
    }
   ],
   "source": [
    "# Install Python bindings for the Google API as per https://developers.google.com/drive/api/v3/quickstart/python\n",
    "\n",
    "!pip3 install --upgrade google-api-python-client google-auth-httplib2 google-auth-oauthlib"
   ]
  },
  {
   "cell_type": "code",
   "execution_count": 1,
   "metadata": {},
   "outputs": [],
   "source": [
    "from googleapiclient.discovery import build\n",
    "from google.oauth2 import service_account"
   ]
  },
  {
   "cell_type": "markdown",
   "metadata": {},
   "source": [
    "\n",
    "\n",
    "since we're going to be exporting files via the google drive api, we need credentials for that scope as\n",
    "detailed in https://developers.google.com/drive/api/v3/reference/files/export#auth\n",
    "\n",
    "Choose an authentication method as detailed in https://developers.google.com/identity/protocols/oauth2#scenarios.\n",
    "\n",
    "Since you mention creating a GCP project, I assume you're interested in using a GCP service account\n",
    "as detailed in https://developers.google.com/identity/protocols/oauth2#serviceaccount\n",
    "\n",
    "You can create a service account at https://console.developers.google.com/apis/credentials \n",
    "or as explained in https://developers.google.com/identity/protocols/oauth2/service-account#creatinganaccount\n",
    "\n",
    "Make sure to enable domain-wide-delegation for that service account while creating it and grant it `https://www.googleapis.com/auth/drive` scope under https://admin.google.com/ac/owl/domainwidedelegation since you otherwise won't be able to impersonate other users, including yourself, and download their files.\n",
    "\n"
   ]
  },
  {
   "cell_type": "code",
   "execution_count": null,
   "metadata": {},
   "outputs": [],
   "source": [
    "SCOPES = ['https://www.googleapis.com/auth/drive']\n",
    "\n",
    "SERVICE_ACCOUNT_FILE = 'credentials.json'\n",
    "\n",
    "# We use the SERVICE_ACCOUNT_FILE we just downloaded and the SCOPES we defined to create a Credentials object.\n",
    "credentials = service_account.Credentials.from_service_account_file(SERVICE_ACCOUNT_FILE, scopes=SCOPES)\n",
    "\n",
    "# Remember, you must have created credentials.json with domain-wide delegation!\n",
    "credentials = credentials.with_subject('user@example.com')\n",
    "\n",
    "# We build a drive_v3 service using the credentials we just created\n",
    "service = build('drive', 'v3', credentials=credentials)"
   ]
  },
  {
   "cell_type": "markdown",
   "metadata": {},
   "source": [
    "We access the files resource as shown in https://developers.google.com/drive/api/v3/reference/files/get\n",
    "and request the metadata of a file to which user@example.com has access:\n",
    "https://docs.google.com/document/d/fileId/edit"
   ]
  },
  {
   "cell_type": "code",
   "execution_count": 2,
   "metadata": {},
   "outputs": [
    {
     "data": {
      "text/plain": [
       "{'kind': 'drive#file',\n",
       " 'id': '1U3eMevKxTwDxzvOBUsqa36zvwBzKPVYOFgy3k_9vxb8',\n",
       " 'name': 'empty',\n",
       " 'mimeType': 'application/vnd.google-apps.document'}"
      ]
     },
     "execution_count": 2,
     "metadata": {},
     "output_type": "execute_result"
    }
   ],
   "source": [
    "files = service.files()\n",
    "service.files().get(fileId='1U3eMevKxTwDxzvOBUsqa36zvwBzKPVYOFgy3k_9vxb8').execute()"
   ]
  },
  {
   "cell_type": "markdown",
   "metadata": {},
   "source": [
    "We access the files resource again but this time to export the file as detailed in\n",
    "https://developers.google.com/resources/api-libraries/documentation/drive/v3/python/latest/drive_v3.files.html#export\n",
    "This could also be achieved using https://developers.google.com/drive/api/v3/manage-downloads.\n",
    "\n",
    "Valid MIME types are listed in https://developers.google.com/drive/api/v3/ref-export-formats."
   ]
  },
  {
   "cell_type": "code",
   "execution_count": 4,
   "metadata": {},
   "outputs": [
    {
     "name": "stdout",
     "output_type": "stream",
     "text": [
      "b'MN\\xc30\\x10\\x85O\\xc0\\x1d\"'...\n"
     ]
    }
   ],
   "source": [
    "fconr = files.export(fileId='1U3eMevKxTwDxzvOBUsqa36zvwBzKPVYOFgy3k_9vxb8',\n",
    "                     mimeType='application/vnd.openxmlformats-officedocument.wordprocessingml.document')\n",
    "\n",
    "fcont = fconr.execute()\n",
    "\n",
    "print('{}...'.format(fcont[:10]))\n",
    "\n",
    "file = open(\"/tmp/sample.doc\", \"wb\")\n",
    "file.write(fcont)\n",
    "file.close()"
   ]
  },
  {
   "cell_type": "markdown",
   "metadata": {},
   "source": [
    "As can be seen, `fcont` contains a binary blob that corresponds to the document and of which I'm showing the first 10 bytes. Finally, the blob is saved to `sample.doc`."
   ]
  },
  {
   "cell_type": "code",
   "execution_count": 6,
   "metadata": {
    "scrolled": true
   },
   "outputs": [
    {
     "name": "stdout",
     "output_type": "stream",
     "text": [
      "-rw-rw-r-- 1 jdsalaro jdsalaro 6,0K Jan 20 23:38 /tmp/sample.doc\r\n"
     ]
    }
   ],
   "source": [
    "!ls -alh1 /tmp/sample.doc"
   ]
  },
  {
   "cell_type": "code",
   "execution_count": null,
   "metadata": {},
   "outputs": [],
   "source": []
  }
 ],
 "metadata": {
  "celltoolbar": "Raw Cell Format",
  "kernelspec": {
   "display_name": "Python 3",
   "language": "python",
   "name": "python3"
  },
  "language_info": {
   "codemirror_mode": {
    "name": "ipython",
    "version": 3
   },
   "file_extension": ".py",
   "mimetype": "text/x-python",
   "name": "python",
   "nbconvert_exporter": "python",
   "pygments_lexer": "ipython3",
   "version": "3.8.5"
  }
 },
 "nbformat": 4,
 "nbformat_minor": 4
}
