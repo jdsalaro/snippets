{
 "cells": [
  {
   "attachments": {
    "image.png": {
     "image/png": "[encoded data removed]"
    }
   },
   "cell_type": "markdown",
   "metadata": {},
   "source": [
    "![image.png](attachment:image.png)\n",
    "\n",
    "## [[link](https://stackoverflow.com/questions/65766669/counting-amount-of-occurrences-within-a-certain-frame-in-timestamps-on-pandas)] Counting amount of occurrences within a certain frame in timestamps on Pandas \n",
    "\n",
    "I have a file (txt) containing fake data with the following 3 columns:\n",
    "\n",
    "---\n",
    "```\n",
    "user_13 visit_19    1330760979\n",
    "\n",
    "user_14 visit_20    1330732782\n",
    "\n",
    "user_14 visit_21    1330769600\n",
    "\n",
    "user_14 visit_22    1330783341\n",
    "\n",
    "user_14 visit_23    1330796012\n",
    "\n",
    "user_14 visit_24    1330797842\n",
    "```\n",
    "---\n",
    "Using Pandas, how can I find out from the time stamps on the third column, the amount of users who visited the page between 16:00 - 22:00?\n",
    "\n",
    "One user might have more than one visit, in order to qualify to the list, the first and last visit must have been between 16:00 and 22:00."
   ]
  },
  {
   "cell_type": "markdown",
   "metadata": {},
   "source": [
    "## Answer Suggestion\n",
    "\n",
    "### By Jayson Salazar\n",
    "\n",
    "### [Twitter](https://twitter.com/jdsalaro) [LinkedIn](https://linkedin.com/in/jdsalaro) [GitLab](https://gitlab.com/users/jdsalaro/activity) [GitHub](https://github.com/jdsalaro/activity) [Website](https://jdsalaro.com) \n",
    "\n",
    "---\n"
   ]
  },
  {
   "cell_type": "code",
   "execution_count": 113,
   "metadata": {},
   "outputs": [],
   "source": [
    "import pandas as pd\n",
    "from io import StringIO\n",
    "import datetime"
   ]
  },
  {
   "cell_type": "code",
   "execution_count": 114,
   "metadata": {},
   "outputs": [
    {
     "name": "stdout",
     "output_type": "stream",
     "text": [
      "Pretty printing has been turned OFF\n"
     ]
    }
   ],
   "source": [
    "%pprint"
   ]
  },
  {
   "cell_type": "code",
   "execution_count": 115,
   "metadata": {},
   "outputs": [],
   "source": [
    "data = '''\n",
    "user_13 visit_19    1330760979\n",
    "\n",
    "user_14 visit_20    1330732782\n",
    "\n",
    "user_14 visit_21    1330769600\n",
    "\n",
    "user_14 visit_22    1330783341\n",
    "\n",
    "user_14 visit_23    1330796012\n",
    "\n",
    "user_14 visit_24    1330797842\n",
    "'''\n",
    "data = data.strip()      # remove trailing white-spaces and newline characters\n",
    "data = io.StringIO(data) # create in-memory stream from the data string variable for use in read_csv"
   ]
  },
  {
   "cell_type": "code",
   "execution_count": 116,
   "metadata": {},
   "outputs": [
    {
     "data": {
      "text/plain": [
       "array([['user_13', 'visit_19', 1330760979],\n",
       "       ['user_14', 'visit_20', 1330732782],\n",
       "       ['user_14', 'visit_21', 1330769600],\n",
       "       ['user_14', 'visit_22', 1330783341],\n",
       "       ['user_14', 'visit_23', 1330796012],\n",
       "       ['user_14', 'visit_24', 1330797842]], dtype=object)"
      ]
     },
     "execution_count": 116,
     "metadata": {},
     "output_type": "execute_result"
    }
   ],
   "source": [
    "df = pd.read_csv(\n",
    "     data,                              # the data in \"CSV\" format\n",
    "     delim_whitespace=True,             # override default delimiter \",\" with whitespace\n",
    "     names=['user','visit','timestamp'] # define column names for the resulting dataframe\n",
    ")\n",
    "\n",
    "df.values"
   ]
  },
  {
   "cell_type": "code",
   "execution_count": 117,
   "metadata": {},
   "outputs": [],
   "source": [
    "df['timestamp'] = pd.to_datetime(df['timestamp'], # replace \"timestamp\" column values with datetime equivalent \n",
    "                                 unit='s')        # with up to second precision"
   ]
  },
  {
   "cell_type": "code",
   "execution_count": 118,
   "metadata": {},
   "outputs": [
    {
     "data": {
      "text/plain": [
       "array([['user_14', 'visit_23', Timestamp('2012-03-03 17:33:32')],\n",
       "       ['user_14', 'visit_24', Timestamp('2012-03-03 18:04:02')]],\n",
       "      dtype=object)"
      ]
     },
     "execution_count": 118,
     "metadata": {},
     "output_type": "execute_result"
    }
   ],
   "source": [
    "lb = 16 # lower hour bound\n",
    "ub = 22 # upper hour bound\n",
    "vb = df[\n",
    "     (lb <= df['timestamp'].dt.hour) # compare hour in \"timestamp\" column to lb using dt accessor\n",
    "     &                               # perform logical and series operator on the two resulting series\n",
    "     (ub >= df['timestamp'].dt.hour) # compare hour in \"timestamp\" column to lb using dt accessor\n",
    "]\n",
    "\n",
    "vb.values"
   ]
  },
  {
   "cell_type": "code",
   "execution_count": 120,
   "metadata": {},
   "outputs": [
    {
     "name": "stdout",
     "output_type": "stream",
     "text": [
      "user_14    1\n",
      "Name: user, dtype: int64\n"
     ]
    }
   ],
   "source": [
    "print(vb.user.drop_duplicates().value_counts())"
   ]
  }
 ],
 "metadata": {
  "celltoolbar": "Raw Cell Format",
  "kernelspec": {
   "display_name": "Python 3",
   "language": "python",
   "name": "python3"
  },
  "language_info": {
   "codemirror_mode": {
    "name": "ipython",
    "version": 3
   },
   "file_extension": ".py",
   "mimetype": "text/x-python",
   "name": "python",
   "nbconvert_exporter": "python",
   "pygments_lexer": "ipython3",
   "version": "3.8.5"
  }
 },
 "nbformat": 4,
 "nbformat_minor": 4
}
