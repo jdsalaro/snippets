{
 "cells": [
  {
   "cell_type": "markdown",
   "metadata": {},
   "source": [
    "# Question\n",
    "\n",
    "## [[link](https://stackoverflow.com/questions/65896179/get-exposed-port-from-within-docker-compose#65896179)] Get exposed port from within docker-compose\n",
    "\n",
    "# Answer"
   ]
  },
  {
   "cell_type": "code",
   "execution_count": 4,
   "metadata": {
    "scrolled": true
   },
   "outputs": [
    {
     "name": "stdout",
     "output_type": "stream",
     "text": [
      "FROM python:3.8\r\n",
      "\r\n",
      "RUN python -m pip install --upgrade pip\r\n",
      "RUN pip install pipenv\r\n",
      "\r\n",
      "COPY Pipfile* /app/\r\n",
      "\r\n",
      "RUN cd /app &&  pipenv lock --keep-outdated --requirements > requirements.txt\r\n",
      "\r\n",
      "RUN pip install -r /app/requirements.txt\r\n",
      "\r\n",
      "COPY . /app/src\r\n",
      "\r\n",
      "WORKDIR /app/src\r\n",
      "\r\n",
      "EXPOSE ${PORT}\r\n",
      "\r\n",
      "CMD uwsgi --http :${PORT} --wsgi-file server.py --callable main\r\n"
     ]
    }
   ],
   "source": [
    "!cat dockerfile"
   ]
  },
  {
   "cell_type": "code",
   "execution_count": 5,
   "metadata": {},
   "outputs": [
    {
     "name": "stdout",
     "output_type": "stream",
     "text": [
      "version: \"3.9\"\r\n",
      "services:\r\n",
      "  server:\r\n",
      "    build: .\r\n",
      "    ports:\r\n",
      "      - \"8086\"\r\n",
      "    environment:\r\n",
      "      - PORT=8086\r\n",
      "\r\n"
     ]
    }
   ],
   "source": [
    "!cat docker-compose.yml"
   ]
  },
  {
   "cell_type": "markdown",
   "metadata": {},
   "source": [
    "# [!]\n",
    "No `HOST_PORT` has been provided in the `docker-compose.yml` file above."
   ]
  },
  {
   "cell_type": "code",
   "execution_count": 18,
   "metadata": {
    "scrolled": false
   },
   "outputs": [
    {
     "name": "stdout",
     "output_type": "stream",
     "text": [
      "Building with native build. Learn about native build in Compose here: https://docs.docker.com/go/compose-native-build/\n",
      "Building server\n",
      "Sending build context to Docker daemon   38.4kB\n",
      "\n",
      "Step 1/10 : FROM python:3.8\n",
      " ---> 4d53664a7025\n",
      "Step 2/10 : RUN python -m pip install --upgrade pip\n",
      " ---> Using cache\n",
      " ---> 9a549e8b7b16\n",
      "Step 3/10 : RUN pip install pipenv\n",
      " ---> Using cache\n",
      " ---> a6144725fda4\n",
      "Step 4/10 : COPY Pipfile* /app/\n",
      " ---> Using cache\n",
      " ---> dee26770a0c6\n",
      "Step 5/10 : RUN cd /app &&  pipenv lock --keep-outdated --requirements > requirements.txt\n",
      " ---> Using cache\n",
      " ---> 6ec6eef050f8\n",
      "Step 6/10 : RUN pip install -r /app/requirements.txt\n",
      " ---> Using cache\n",
      " ---> 91e654cb1802\n",
      "Step 7/10 : COPY . /app/src\n",
      " ---> aa2a5a9da395\n",
      "Step 8/10 : WORKDIR /app/src\n",
      " ---> Running in dab674cdaa8d\n",
      "Removing intermediate container dab674cdaa8d\n",
      " ---> 9ca4edcc70cf\n",
      "Step 9/10 : EXPOSE ${PORT}\n",
      " ---> Running in fe3270892dcf\n",
      "Removing intermediate container fe3270892dcf\n",
      " ---> 1ccbbad053cf\n",
      "Step 10/10 : CMD uwsgi --http :${PORT} --wsgi-file server.py --callable main\n",
      " ---> Running in a66c32531bdd\n",
      "Removing intermediate container a66c32531bdd\n",
      " ---> 6914fdab68cb\n",
      "Successfully built 6914fdab68cb\n",
      "Successfully tagged 65896179-get-exposed-port-from-within-docker-compose_server:latest\n",
      "\u001b[33mWARNING\u001b[0m: Image for service server was built because it did not already exist. To rebuild this image you must use `docker-compose build` or `docker-compose up --build`.\n",
      "Creating 65896179-get-exposed-port-from-within-docker-compose_server_1 ... \n",
      "\u001b[1BAttaching to 65896179-get-exposed-port-from-within-docker-compose_server_12mdone\u001b[0m\n",
      "\u001b[36mserver_1  |\u001b[0m *** Starting uWSGI 2.0.19.1 (64bit) on [Tue Jan 26 06:12:47 2021] ***\n",
      "\u001b[36mserver_1  |\u001b[0m compiled with version: 8.3.0 on 26 January 2021 06:08:33\n",
      "\u001b[36mserver_1  |\u001b[0m os: Linux-5.4.0-64-generic #72-Ubuntu SMP Fri Jan 15 10:27:54 UTC 2021\n",
      "\u001b[36mserver_1  |\u001b[0m nodename: de0120c61c1e\n",
      "\u001b[36mserver_1  |\u001b[0m machine: x86_64\n",
      "\u001b[36mserver_1  |\u001b[0m clock source: unix\n",
      "\u001b[36mserver_1  |\u001b[0m pcre jit disabled\n",
      "\u001b[36mserver_1  |\u001b[0m detected number of CPU cores: 16\n",
      "\u001b[36mserver_1  |\u001b[0m current working directory: /app/src\n",
      "\u001b[36mserver_1  |\u001b[0m detected binary path: /usr/local/bin/uwsgi\n",
      "\u001b[36mserver_1  |\u001b[0m uWSGI running as root, you can use --uid/--gid/--chroot options\n",
      "\u001b[36mserver_1  |\u001b[0m *** WARNING: you are running uWSGI as root !!! (use the --uid flag) *** \n",
      "\u001b[36mserver_1  |\u001b[0m *** WARNING: you are running uWSGI without its master process manager ***\n",
      "\u001b[36mserver_1  |\u001b[0m your processes number limit is 126513\n",
      "\u001b[36mserver_1  |\u001b[0m your memory page size is 4096 bytes\n",
      "\u001b[36mserver_1  |\u001b[0m detected max file descriptor number: 1048576\n",
      "\u001b[36mserver_1  |\u001b[0m lock engine: pthread robust mutexes\n",
      "\u001b[36mserver_1  |\u001b[0m thunder lock: disabled (you can enable it with --thunder-lock)\n",
      "\u001b[36mserver_1  |\u001b[0m uWSGI http bound on :8086 fd 4\n",
      "\u001b[36mserver_1  |\u001b[0m spawned uWSGI http 1 (pid: 9)\n",
      "\u001b[36mserver_1  |\u001b[0m uwsgi socket 0 bound to TCP address 127.0.0.1:33619 (port auto-assigned) fd 3\n",
      "\u001b[36mserver_1  |\u001b[0m uWSGI running as root, you can use --uid/--gid/--chroot options\n",
      "\u001b[36mserver_1  |\u001b[0m *** WARNING: you are running uWSGI as root !!! (use the --uid flag) *** \n",
      "\u001b[36mserver_1  |\u001b[0m Python version: 3.8.7 (default, Jan 12 2021, 17:06:28)  [GCC 8.3.0]\n",
      "\u001b[36mserver_1  |\u001b[0m *** Python threads support is disabled. You can enable it with --enable-threads ***\n",
      "\u001b[36mserver_1  |\u001b[0m Python main interpreter initialized at 0x55a43c32d5c0\n",
      "\u001b[36mserver_1  |\u001b[0m uWSGI running as root, you can use --uid/--gid/--chroot options\n",
      "\u001b[36mserver_1  |\u001b[0m *** WARNING: you are running uWSGI as root !!! (use the --uid flag) *** \n",
      "\u001b[36mserver_1  |\u001b[0m your server socket listen backlog is limited to 100 connections\n",
      "\u001b[36mserver_1  |\u001b[0m your mercy for graceful operations on workers is 60 seconds\n",
      "\u001b[36mserver_1  |\u001b[0m mapped 72920 bytes (71 KB) for 1 cores\n",
      "\u001b[36mserver_1  |\u001b[0m *** Operational MODE: single process ***\n",
      "\u001b[36mserver_1  |\u001b[0m WSGI app 0 (mountpoint='') ready in 0 seconds on interpreter 0x55a43c32d5c0 pid: 8 (default app)\n",
      "\u001b[36mserver_1  |\u001b[0m uWSGI running as root, you can use --uid/--gid/--chroot options\n",
      "\u001b[36mserver_1  |\u001b[0m *** WARNING: you are running uWSGI as root !!! (use the --uid flag) *** \n",
      "\u001b[36mserver_1  |\u001b[0m *** uWSGI is running in multiple interpreter mode ***\n",
      "\u001b[36mserver_1  |\u001b[0m spawned uWSGI worker 1 (and the only) (pid: 8, cores: 1)\n",
      "^C\n",
      "Gracefully stopping... (press Ctrl+C again to force)\n",
      "Stopping 65896179-get-exposed-port-from-within-docker-compose_server_1 ... \n"
     ]
    }
   ],
   "source": [
    "!docker-compose up "
   ]
  },
  {
   "cell_type": "markdown",
   "metadata": {},
   "source": [
    "# [!]\n",
    "\n",
    "As seen above, docker-compose can build the container just fine.\n",
    "But as shown below, the container is assigned a random `HOST_PORT`, in this case `49157`."
   ]
  },
  {
   "cell_type": "code",
   "execution_count": 19,
   "metadata": {},
   "outputs": [
    {
     "name": "stdout",
     "output_type": "stream",
     "text": [
      "CONTAINER ID   IMAGE                                                         COMMAND                  CREATED          STATUS          PORTS                     NAMES\r\n",
      "de0120c61c1e   65896179-get-exposed-port-from-within-docker-compose_server   \"/bin/sh -c 'uwsgi -…\"   38 seconds ago   Up 38 seconds   0.0.0.0:49157->8086/tcp   65896179-get-exposed-port-from-within-docker-compose_server_1\r\n"
     ]
    }
   ],
   "source": [
    "!docker ps"
   ]
  },
  {
   "cell_type": "code",
   "execution_count": 21,
   "metadata": {},
   "outputs": [
    {
     "name": "stdout",
     "output_type": "stream",
     "text": [
      "version: \"3.9\"\r\n",
      "services:\r\n",
      "  server:\r\n",
      "    build: .\r\n",
      "    ports:\r\n",
      "      - \"8086:8086\"\r\n",
      "    environment:\r\n",
      "      - PORT=8086\r\n",
      "\r\n"
     ]
    }
   ],
   "source": [
    "!cat docker-compose.yml"
   ]
  },
  {
   "cell_type": "markdown",
   "metadata": {},
   "source": [
    "# [!]\n",
    "\n",
    "We can solve this by providing a `HOST_PORT` as described in https://docs.docker.com/compose/networking/"
   ]
  },
  {
   "cell_type": "code",
   "execution_count": 24,
   "metadata": {
    "scrolled": false
   },
   "outputs": [
    {
     "name": "stdout",
     "output_type": "stream",
     "text": [
      "Building with native build. Learn about native build in Compose here: https://docs.docker.com/go/compose-native-build/\n",
      "Starting 65896179-get-exposed-port-from-within-docker-compose_server_1 ... \n",
      "\u001b[1BAttaching to 65896179-get-exposed-port-from-within-docker-compose_server_12mdone\u001b[0m\n",
      "\u001b[36mserver_1  |\u001b[0m *** Starting uWSGI 2.0.19.1 (64bit) on [Tue Jan 26 06:15:14 2021] ***\n",
      "\u001b[36mserver_1  |\u001b[0m compiled with version: 8.3.0 on 26 January 2021 06:08:33\n",
      "\u001b[36mserver_1  |\u001b[0m os: Linux-5.4.0-64-generic #72-Ubuntu SMP Fri Jan 15 10:27:54 UTC 2021\n",
      "\u001b[36mserver_1  |\u001b[0m nodename: 9845fbae868f\n",
      "\u001b[36mserver_1  |\u001b[0m machine: x86_64\n",
      "\u001b[36mserver_1  |\u001b[0m clock source: unix\n",
      "\u001b[36mserver_1  |\u001b[0m pcre jit disabled\n",
      "\u001b[36mserver_1  |\u001b[0m detected number of CPU cores: 16\n",
      "\u001b[36mserver_1  |\u001b[0m current working directory: /app/src\n",
      "\u001b[36mserver_1  |\u001b[0m detected binary path: /usr/local/bin/uwsgi\n",
      "\u001b[36mserver_1  |\u001b[0m uWSGI running as root, you can use --uid/--gid/--chroot options\n",
      "\u001b[36mserver_1  |\u001b[0m *** WARNING: you are running uWSGI as root !!! (use the --uid flag) *** \n",
      "\u001b[36mserver_1  |\u001b[0m *** WARNING: you are running uWSGI without its master process manager ***\n",
      "\u001b[36mserver_1  |\u001b[0m your processes number limit is 126513\n",
      "\u001b[36mserver_1  |\u001b[0m your memory page size is 4096 bytes\n",
      "\u001b[36mserver_1  |\u001b[0m detected max file descriptor number: 1048576\n",
      "\u001b[36mserver_1  |\u001b[0m lock engine: pthread robust mutexes\n",
      "\u001b[36mserver_1  |\u001b[0m thunder lock: disabled (you can enable it with --thunder-lock)\n",
      "\u001b[36mserver_1  |\u001b[0m uWSGI http bound on :8086 fd 4\n",
      "\u001b[36mserver_1  |\u001b[0m spawned uWSGI http 1 (pid: 9)\n",
      "\u001b[36mserver_1  |\u001b[0m uwsgi socket 0 bound to TCP address 127.0.0.1:35107 (port auto-assigned) fd 3\n",
      "\u001b[36mserver_1  |\u001b[0m uWSGI running as root, you can use --uid/--gid/--chroot options\n",
      "\u001b[36mserver_1  |\u001b[0m *** WARNING: you are running uWSGI as root !!! (use the --uid flag) *** \n",
      "\u001b[36mserver_1  |\u001b[0m Python version: 3.8.7 (default, Jan 12 2021, 17:06:28)  [GCC 8.3.0]\n",
      "\u001b[36mserver_1  |\u001b[0m *** Python threads support is disabled. You can enable it with --enable-threads ***\n",
      "\u001b[36mserver_1  |\u001b[0m Python main interpreter initialized at 0x55e54fdd25c0\n",
      "\u001b[36mserver_1  |\u001b[0m uWSGI running as root, you can use --uid/--gid/--chroot options\n",
      "\u001b[36mserver_1  |\u001b[0m *** WARNING: you are running uWSGI as root !!! (use the --uid flag) *** \n",
      "\u001b[36mserver_1  |\u001b[0m your server socket listen backlog is limited to 100 connections\n",
      "\u001b[36mserver_1  |\u001b[0m your mercy for graceful operations on workers is 60 seconds\n",
      "\u001b[36mserver_1  |\u001b[0m mapped 72920 bytes (71 KB) for 1 cores\n",
      "\u001b[36mserver_1  |\u001b[0m *** Operational MODE: single process ***\n",
      "\u001b[36mserver_1  |\u001b[0m WSGI app 0 (mountpoint='') ready in 0 seconds on interpreter 0x55e54fdd25c0 pid: 8 (default app)\n",
      "\u001b[36mserver_1  |\u001b[0m uWSGI running as root, you can use --uid/--gid/--chroot options\n",
      "\u001b[36mserver_1  |\u001b[0m *** WARNING: you are running uWSGI as root !!! (use the --uid flag) *** \n",
      "\u001b[36mserver_1  |\u001b[0m *** uWSGI is running in multiple interpreter mode ***\n",
      "\u001b[36mserver_1  |\u001b[0m spawned uWSGI worker 1 (and the only) (pid: 8, cores: 1)\n",
      "^C\n",
      "Gracefully stopping... (press Ctrl+C again to force)\n",
      "Stopping 65896179-get-exposed-port-from-within-docker-compose_server_1 ... \n"
     ]
    }
   ],
   "source": [
    "!docker-compose up "
   ]
  },
  {
   "cell_type": "code",
   "execution_count": 25,
   "metadata": {},
   "outputs": [
    {
     "name": "stdout",
     "output_type": "stream",
     "text": [
      "CONTAINER ID   IMAGE                                                         COMMAND                  CREATED          STATUS         PORTS                    NAMES\r\n",
      "9845fbae868f   65896179-get-exposed-port-from-within-docker-compose_server   \"/bin/sh -c 'uwsgi -…\"   37 seconds ago   Up 7 seconds   0.0.0.0:8086->8086/tcp   65896179-get-exposed-port-from-within-docker-compose_server_1\r\n"
     ]
    }
   ],
   "source": [
    "!docker ps"
   ]
  },
  {
   "cell_type": "code",
   "execution_count": 26,
   "metadata": {},
   "outputs": [
    {
     "name": "stdout",
     "output_type": "stream",
     "text": [
      "Hello World!"
     ]
    }
   ],
   "source": [
    "!curl localhost:8086"
   ]
  },
  {
   "cell_type": "markdown",
   "metadata": {},
   "source": [
    "# [!]\n",
    "\n",
    "Alternatively, if the `--scale` flag is to be used and multiple ports have to be chosen one can use a range of ports as `HOST_PORT` such as `8000-8004:8`"
   ]
  },
  {
   "cell_type": "code",
   "execution_count": 1,
   "metadata": {
    "scrolled": false
   },
   "outputs": [
    {
     "name": "stdout",
     "output_type": "stream",
     "text": [
      "Building with native build. Learn about native build in Compose here: https://docs.docker.com/go/compose-native-build/\n",
      "\u001b[33mWARNING\u001b[0m: The \"server\" service specifies a port on the host. If multiple containers for this service are created on a single host, the port will clash.\n",
      "Recreating 65896179-get-exposed-port-from-within-docker-compose_server_1 ... \n",
      "\u001b[1BCreating 65896179-get-exposed-port-from-within-docker-compose_server_2   ... mdone\u001b[0m\n",
      "Creating 65896179-get-exposed-port-from-within-docker-compose_server_3   ... \n",
      "Creating 65896179-get-exposed-port-from-within-docker-compose_server_4   ... \n",
      "\u001b[2BAttaching to 65896179-get-exposed-port-from-within-docker-compose_server_1, 65896179-get-exposed-port-from-within-docker-compose_server_2, 65896179-get-exposed-port-from-within-docker-compose_server_4, 65896179-get-exposed-port-from-within-docker-compose_server_3\n",
      "\u001b[33mserver_2  |\u001b[0m *** Starting uWSGI 2.0.19.1 (64bit) on [Tue Jan 26 18:21:47 2021] ***\n",
      "\u001b[33mserver_2  |\u001b[0m compiled with version: 8.3.0 on 26 January 2021 06:08:33\n",
      "\u001b[33mserver_2  |\u001b[0m os: Linux-5.4.0-64-generic #72-Ubuntu SMP Fri Jan 15 10:27:54 UTC 2021\n",
      "\u001b[33mserver_2  |\u001b[0m nodename: 484614343fb0\n",
      "\u001b[33mserver_2  |\u001b[0m machine: x86_64\n",
      "\u001b[33mserver_2  |\u001b[0m clock source: unix\n",
      "\u001b[33mserver_2  |\u001b[0m pcre jit disabled\n",
      "\u001b[33mserver_2  |\u001b[0m detected number of CPU cores: 16\n",
      "\u001b[33mserver_2  |\u001b[0m current working directory: /app/src\n",
      "\u001b[33mserver_2  |\u001b[0m detected binary path: /usr/local/bin/uwsgi\n",
      "\u001b[33mserver_2  |\u001b[0m uWSGI running as root, you can use --uid/--gid/--chroot options\n",
      "\u001b[33mserver_2  |\u001b[0m *** WARNING: you are running uWSGI as root !!! (use the --uid flag) *** \n",
      "\u001b[33mserver_2  |\u001b[0m *** WARNING: you are running uWSGI without its master process manager ***\n",
      "\u001b[33mserver_2  |\u001b[0m your processes number limit is 126513\n",
      "\u001b[33mserver_2  |\u001b[0m your memory page size is 4096 bytes\n",
      "\u001b[33mserver_2  |\u001b[0m detected max file descriptor number: 1048576\n",
      "\u001b[33mserver_2  |\u001b[0m lock engine: pthread robust mutexes\n",
      "\u001b[33mserver_2  |\u001b[0m thunder lock: disabled (you can enable it with --thunder-lock)\n",
      "\u001b[36mserver_1  |\u001b[0m *** Starting uWSGI 2.0.19.1 (64bit) on [Tue Jan 26 18:21:46 2021] ***\n",
      "\u001b[36mserver_1  |\u001b[0m compiled with version: 8.3.0 on 26 January 2021 06:08:33\n",
      "\u001b[36mserver_1  |\u001b[0m os: Linux-5.4.0-64-generic #72-Ubuntu SMP Fri Jan 15 10:27:54 UTC 2021\n",
      "\u001b[36mserver_1  |\u001b[0m nodename: ddac98b79477\n",
      "\u001b[36mserver_1  |\u001b[0m machine: x86_64\n",
      "\u001b[36mserver_1  |\u001b[0m clock source: unix\n",
      "\u001b[36mserver_1  |\u001b[0m pcre jit disabled\n",
      "\u001b[36mserver_1  |\u001b[0m detected number of CPU cores: 16\n",
      "\u001b[36mserver_1  |\u001b[0m current working directory: /app/src\n",
      "\u001b[36mserver_1  |\u001b[0m detected binary path: /usr/local/bin/uwsgi\n",
      "\u001b[36mserver_1  |\u001b[0m uWSGI running as root, you can use --uid/--gid/--chroot options\n",
      "\u001b[36mserver_1  |\u001b[0m *** WARNING: you are running uWSGI as root !!! (use the --uid flag) *** \n",
      "\u001b[36mserver_1  |\u001b[0m *** WARNING: you are running uWSGI without its master process manager ***\n",
      "\u001b[36mserver_1  |\u001b[0m your processes number limit is 126513\n",
      "\u001b[36mserver_1  |\u001b[0m your memory page size is 4096 bytes\n",
      "\u001b[36mserver_1  |\u001b[0m detected max file descriptor number: 1048576\n",
      "\u001b[36mserver_1  |\u001b[0m lock engine: pthread robust mutexes\n",
      "\u001b[36mserver_1  |\u001b[0m thunder lock: disabled (you can enable it with --thunder-lock)\n",
      "\u001b[32mserver_3  |\u001b[0m *** Starting uWSGI 2.0.19.1 (64bit) on [Tue Jan 26 18:21:47 2021] ***\n",
      "\u001b[32mserver_3  |\u001b[0m compiled with version: 8.3.0 on 26 January 2021 06:08:33\n",
      "\u001b[32mserver_3  |\u001b[0m os: Linux-5.4.0-64-generic #72-Ubuntu SMP Fri Jan 15 10:27:54 UTC 2021\n",
      "\u001b[32mserver_3  |\u001b[0m nodename: 98941b0fee70\n",
      "\u001b[32mserver_3  |\u001b[0m machine: x86_64\n",
      "\u001b[32mserver_3  |\u001b[0m clock source: unix\n",
      "\u001b[32mserver_3  |\u001b[0m pcre jit disabled\n",
      "\u001b[32mserver_3  |\u001b[0m detected number of CPU cores: 16\n",
      "\u001b[32mserver_3  |\u001b[0m current working directory: /app/src\n",
      "\u001b[32mserver_3  |\u001b[0m detected binary path: /usr/local/bin/uwsgi\n",
      "\u001b[32mserver_3  |\u001b[0m uWSGI running as root, you can use --uid/--gid/--chroot options\n",
      "\u001b[32mserver_3  |\u001b[0m *** WARNING: you are running uWSGI as root !!! (use the --uid flag) *** \n",
      "\u001b[32mserver_3  |\u001b[0m *** WARNING: you are running uWSGI without its master process manager ***\n",
      "\u001b[32mserver_3  |\u001b[0m your processes number limit is 126513\n",
      "\u001b[32mserver_3  |\u001b[0m your memory page size is 4096 bytes\n",
      "\u001b[32mserver_3  |\u001b[0m detected max file descriptor number: 1048576\n",
      "\u001b[32mserver_3  |\u001b[0m lock engine: pthread robust mutexes\n",
      "\u001b[32mserver_3  |\u001b[0m thunder lock: disabled (you can enable it with --thunder-lock)\n",
      "\u001b[33mserver_2  |\u001b[0m uWSGI http bound on :8086 fd 4\n",
      "\u001b[36mserver_1  |\u001b[0m uWSGI http bound on :8086 fd 4\n",
      "\u001b[35mserver_4  |\u001b[0m *** Starting uWSGI 2.0.19.1 (64bit) on [Tue Jan 26 18:21:47 2021] ***\n",
      "\u001b[35mserver_4  |\u001b[0m compiled with version: 8.3.0 on 26 January 2021 06:08:33\n",
      "\u001b[35mserver_4  |\u001b[0m os: Linux-5.4.0-64-generic #72-Ubuntu SMP Fri Jan 15 10:27:54 UTC 2021\n",
      "\u001b[35mserver_4  |\u001b[0m nodename: b455a3e2defe\n",
      "\u001b[35mserver_4  |\u001b[0m machine: x86_64\n",
      "\u001b[35mserver_4  |\u001b[0m clock source: unix\n",
      "\u001b[35mserver_4  |\u001b[0m pcre jit disabled\n",
      "\u001b[35mserver_4  |\u001b[0m detected number of CPU cores: 16\n",
      "\u001b[35mserver_4  |\u001b[0m current working directory: /app/src\n",
      "\u001b[35mserver_4  |\u001b[0m detected binary path: /usr/local/bin/uwsgi\n",
      "\u001b[35mserver_4  |\u001b[0m uWSGI running as root, you can use --uid/--gid/--chroot options\n",
      "\u001b[35mserver_4  |\u001b[0m *** WARNING: you are running uWSGI as root !!! (use the --uid flag) *** \n",
      "\u001b[35mserver_4  |\u001b[0m *** WARNING: you are running uWSGI without its master process manager ***\n",
      "\u001b[33mserver_2  |\u001b[0m spawned uWSGI http 1 (pid: 8)\n",
      "\u001b[33mserver_2  |\u001b[0m uwsgi socket 0 bound to TCP address 127.0.0.1:32877 (port auto-assigned) fd 3\n",
      "\u001b[33mserver_2  |\u001b[0m uWSGI running as root, you can use --uid/--gid/--chroot options\n",
      "\u001b[33mserver_2  |\u001b[0m *** WARNING: you are running uWSGI as root !!! (use the --uid flag) *** \n",
      "\u001b[33mserver_2  |\u001b[0m Python version: 3.8.7 (default, Jan 12 2021, 17:06:28)  [GCC 8.3.0]\n",
      "\u001b[35mserver_4  |\u001b[0m your processes number limit is 126513\n",
      "\u001b[35mserver_4  |\u001b[0m your memory page size is 4096 bytes\n",
      "\u001b[35mserver_4  |\u001b[0m detected max file descriptor number: 1048576\n",
      "\u001b[35mserver_4  |\u001b[0m lock engine: pthread robust mutexes\n",
      "\u001b[35mserver_4  |\u001b[0m thunder lock: disabled (you can enable it with --thunder-lock)\n",
      "\u001b[32mserver_3  |\u001b[0m uWSGI http bound on :8086 fd 4\n",
      "\u001b[36mserver_1  |\u001b[0m spawned uWSGI http 1 (pid: 9)\n",
      "\u001b[36mserver_1  |\u001b[0m uwsgi socket 0 bound to TCP address 127.0.0.1:41285 (port auto-assigned) fd 3\n",
      "\u001b[36mserver_1  |\u001b[0m uWSGI running as root, you can use --uid/--gid/--chroot options\n",
      "\u001b[36mserver_1  |\u001b[0m *** WARNING: you are running uWSGI as root !!! (use the --uid flag) *** \n",
      "\u001b[35mserver_4  |\u001b[0m uWSGI http bound on :8086 fd 4\n",
      "\u001b[35mserver_4  |\u001b[0m spawned uWSGI http 1 (pid: 8)\n",
      "\u001b[36mserver_1  |\u001b[0m Python version: 3.8.7 (default, Jan 12 2021, 17:06:28)  [GCC 8.3.0]\n",
      "\u001b[35mserver_4  |\u001b[0m uwsgi socket 0 bound to TCP address 127.0.0.1:44313 (port auto-assigned) fd 3\n",
      "\u001b[35mserver_4  |\u001b[0m uWSGI running as root, you can use --uid/--gid/--chroot options\n",
      "\u001b[35mserver_4  |\u001b[0m *** WARNING: you are running uWSGI as root !!! (use the --uid flag) *** \n",
      "\u001b[33mserver_2  |\u001b[0m *** Python threads support is disabled. You can enable it with --enable-threads ***\n",
      "\u001b[33mserver_2  |\u001b[0m Python main interpreter initialized at 0x55d7fd1475c0\n",
      "\u001b[33mserver_2  |\u001b[0m uWSGI running as root, you can use --uid/--gid/--chroot options\n",
      "\u001b[33mserver_2  |\u001b[0m *** WARNING: you are running uWSGI as root !!! (use the --uid flag) *** \n",
      "\u001b[33mserver_2  |\u001b[0m your server socket listen backlog is limited to 100 connections\n",
      "\u001b[33mserver_2  |\u001b[0m your mercy for graceful operations on workers is 60 seconds\n",
      "\u001b[32mserver_3  |\u001b[0m spawned uWSGI http 1 (pid: 8)\n",
      "\u001b[32mserver_3  |\u001b[0m uwsgi socket 0 bound to TCP address 127.0.0.1:36711 (port auto-assigned) fd 3\n",
      "\u001b[32mserver_3  |\u001b[0m uWSGI running as root, you can use --uid/--gid/--chroot options\n",
      "\u001b[32mserver_3  |\u001b[0m *** WARNING: you are running uWSGI as root !!! (use the --uid flag) *** \n",
      "\u001b[35mserver_4  |\u001b[0m Python version: 3.8.7 (default, Jan 12 2021, 17:06:28)  [GCC 8.3.0]\n",
      "\u001b[33mserver_2  |\u001b[0m mapped 72920 bytes (71 KB) for 1 cores\n",
      "\u001b[33mserver_2  |\u001b[0m *** Operational MODE: single process ***\n",
      "\u001b[32mserver_3  |\u001b[0m Python version: 3.8.7 (default, Jan 12 2021, 17:06:28)  [GCC 8.3.0]\n",
      "\u001b[33mserver_2  |\u001b[0m WSGI app 0 (mountpoint='') ready in 0 seconds on interpreter 0x55d7fd1475c0 pid: 7 (default app)\n",
      "\u001b[33mserver_2  |\u001b[0m uWSGI running as root, you can use --uid/--gid/--chroot options\n",
      "\u001b[33mserver_2  |\u001b[0m *** WARNING: you are running uWSGI as root !!! (use the --uid flag) *** \n",
      "\u001b[33mserver_2  |\u001b[0m *** uWSGI is running in multiple interpreter mode ***\n",
      "\u001b[33mserver_2  |\u001b[0m spawned uWSGI worker 1 (and the only) (pid: 7, cores: 1)\n",
      "\u001b[36mserver_1  |\u001b[0m *** Python threads support is disabled. You can enable it with --enable-threads ***\n",
      "\u001b[36mserver_1  |\u001b[0m Python main interpreter initialized at 0x5592773505c0\n",
      "\u001b[36mserver_1  |\u001b[0m uWSGI running as root, you can use --uid/--gid/--chroot options\n",
      "\u001b[36mserver_1  |\u001b[0m *** WARNING: you are running uWSGI as root !!! (use the --uid flag) *** \n",
      "\u001b[36mserver_1  |\u001b[0m your server socket listen backlog is limited to 100 connections\n",
      "\u001b[36mserver_1  |\u001b[0m your mercy for graceful operations on workers is 60 seconds\n",
      "\u001b[36mserver_1  |\u001b[0m mapped 72920 bytes (71 KB) for 1 cores\n",
      "\u001b[36mserver_1  |\u001b[0m *** Operational MODE: single process ***\n",
      "\u001b[36mserver_1  |\u001b[0m WSGI app 0 (mountpoint='') ready in 0 seconds on interpreter 0x5592773505c0 pid: 8 (default app)\n",
      "\u001b[36mserver_1  |\u001b[0m uWSGI running as root, you can use --uid/--gid/--chroot options\n",
      "\u001b[36mserver_1  |\u001b[0m *** WARNING: you are running uWSGI as root !!! (use the --uid flag) *** \n",
      "\u001b[36mserver_1  |\u001b[0m *** uWSGI is running in multiple interpreter mode ***\n",
      "\u001b[36mserver_1  |\u001b[0m spawned uWSGI worker 1 (and the only) (pid: 8, cores: 1)\n",
      "\u001b[35mserver_4  |\u001b[0m *** Python threads support is disabled. You can enable it with --enable-threads ***\n",
      "\u001b[35mserver_4  |\u001b[0m Python main interpreter initialized at 0x557dbbfc55c0\n",
      "\u001b[35mserver_4  |\u001b[0m uWSGI running as root, you can use --uid/--gid/--chroot options\n",
      "\u001b[35mserver_4  |\u001b[0m *** WARNING: you are running uWSGI as root !!! (use the --uid flag) *** \n",
      "\u001b[35mserver_4  |\u001b[0m your server socket listen backlog is limited to 100 connections\n",
      "\u001b[35mserver_4  |\u001b[0m your mercy for graceful operations on workers is 60 seconds\n",
      "\u001b[35mserver_4  |\u001b[0m mapped 72920 bytes (71 KB) for 1 cores\n",
      "\u001b[35mserver_4  |\u001b[0m *** Operational MODE: single process ***\n",
      "\u001b[35mserver_4  |\u001b[0m WSGI app 0 (mountpoint='') ready in 0 seconds on interpreter 0x557dbbfc55c0 pid: 7 (default app)\n",
      "\u001b[35mserver_4  |\u001b[0m uWSGI running as root, you can use --uid/--gid/--chroot options\n",
      "\u001b[35mserver_4  |\u001b[0m *** WARNING: you are running uWSGI as root !!! (use the --uid flag) *** \n",
      "\u001b[35mserver_4  |\u001b[0m *** uWSGI is running in multiple interpreter mode ***\n",
      "\u001b[35mserver_4  |\u001b[0m spawned uWSGI worker 1 (and the only) (pid: 7, cores: 1)\n",
      "\u001b[32mserver_3  |\u001b[0m *** Python threads support is disabled. You can enable it with --enable-threads ***\n",
      "\u001b[32mserver_3  |\u001b[0m Python main interpreter initialized at 0x56199d0755c0\n",
      "\u001b[32mserver_3  |\u001b[0m uWSGI running as root, you can use --uid/--gid/--chroot options\n",
      "\u001b[32mserver_3  |\u001b[0m *** WARNING: you are running uWSGI as root !!! (use the --uid flag) *** \n",
      "\u001b[32mserver_3  |\u001b[0m your server socket listen backlog is limited to 100 connections\n",
      "\u001b[32mserver_3  |\u001b[0m your mercy for graceful operations on workers is 60 seconds\n",
      "\u001b[32mserver_3  |\u001b[0m mapped 72920 bytes (71 KB) for 1 cores\n",
      "\u001b[32mserver_3  |\u001b[0m *** Operational MODE: single process ***\n",
      "\u001b[32mserver_3  |\u001b[0m WSGI app 0 (mountpoint='') ready in 0 seconds on interpreter 0x56199d0755c0 pid: 7 (default app)\n",
      "\u001b[32mserver_3  |\u001b[0m uWSGI running as root, you can use --uid/--gid/--chroot options\n",
      "\u001b[32mserver_3  |\u001b[0m *** WARNING: you are running uWSGI as root !!! (use the --uid flag) *** \n",
      "\u001b[32mserver_3  |\u001b[0m *** uWSGI is running in multiple interpreter mode ***\n",
      "\u001b[32mserver_3  |\u001b[0m spawned uWSGI worker 1 (and the only) (pid: 7, cores: 1)\n"
     ]
    },
    {
     "name": "stdout",
     "output_type": "stream",
     "text": [
      "^C\r\n",
      "Gracefully stopping... (press Ctrl+C again to force)\r\n",
      "Stopping 65896179-get-exposed-port-from-within-docker-compose_server_4   ... \r",
      "\r\n",
      "Stopping 65896179-get-exposed-port-from-within-docker-compose_server_2   ... \r",
      "\r\n",
      "Stopping 65896179-get-exposed-port-from-within-docker-compose_server_3   ... \r",
      "\r\n",
      "Stopping 65896179-get-exposed-port-from-within-docker-compose_server_1   ... \r",
      "\r\n"
     ]
    }
   ],
   "source": [
    "!docker-compose up --scale server=4"
   ]
  },
  {
   "cell_type": "code",
   "execution_count": 2,
   "metadata": {},
   "outputs": [
    {
     "name": "stdout",
     "output_type": "stream",
     "text": [
      "CONTAINER ID   IMAGE                                                         COMMAND                  CREATED          STATUS          PORTS                                   NAMES\r\n",
      "b455a3e2defe   65896179-get-exposed-port-from-within-docker-compose_server   \"/bin/sh -c 'uwsgi -…\"   37 seconds ago   Up 35 seconds   0.0.0.0:8003->8086/tcp                  65896179-get-exposed-port-from-within-docker-compose_server_4\r\n",
      "484614343fb0   65896179-get-exposed-port-from-within-docker-compose_server   \"/bin/sh -c 'uwsgi -…\"   37 seconds ago   Up 35 seconds   0.0.0.0:8002->8086/tcp                  65896179-get-exposed-port-from-within-docker-compose_server_2\r\n",
      "98941b0fee70   65896179-get-exposed-port-from-within-docker-compose_server   \"/bin/sh -c 'uwsgi -…\"   37 seconds ago   Up 35 seconds   0.0.0.0:8001->8086/tcp                  65896179-get-exposed-port-from-within-docker-compose_server_3\r\n",
      "ddac98b79477   65896179-get-exposed-port-from-within-docker-compose_server   \"/bin/sh -c 'uwsgi -…\"   37 seconds ago   Up 36 seconds   0.0.0.0:8000->8086/tcp                  65896179-get-exposed-port-from-within-docker-compose_server_1\r\n",
      "0b17cb37de51   spamcheck                                                     \"/bin/sh -c '/build/…\"   2 hours ago      Up 2 hours      8001-8002/tcp, 0.0.0.0:8080->8080/tcp   busy_beaver\r\n"
     ]
    }
   ],
   "source": [
    "!docker ps"
   ]
  },
  {
   "cell_type": "code",
   "execution_count": 3,
   "metadata": {},
   "outputs": [
    {
     "name": "stdout",
     "output_type": "stream",
     "text": [
      "Hello World!"
     ]
    }
   ],
   "source": [
    "!curl localhost:8000"
   ]
  },
  {
   "cell_type": "code",
   "execution_count": 4,
   "metadata": {},
   "outputs": [
    {
     "name": "stdout",
     "output_type": "stream",
     "text": [
      "Hello World!"
     ]
    }
   ],
   "source": [
    "!curl localhost:8001"
   ]
  },
  {
   "cell_type": "code",
   "execution_count": 5,
   "metadata": {},
   "outputs": [
    {
     "name": "stdout",
     "output_type": "stream",
     "text": [
      "Hello World!"
     ]
    }
   ],
   "source": [
    "!curl localhost:8002"
   ]
  },
  {
   "cell_type": "code",
   "execution_count": 6,
   "metadata": {},
   "outputs": [
    {
     "name": "stdout",
     "output_type": "stream",
     "text": [
      "Hello World!"
     ]
    }
   ],
   "source": [
    "!curl localhost:8003"
   ]
  },
  {
   "attachments": {
    "blog.png": {
     "image/png": "[encoded data removed]"
    },
    "linkedin.png": {
     "image/png": "[encoded data removed]"
    },
    "twitter.png": {
     "image/png": "[encoded data removed]"
    }
   },
   "cell_type": "markdown",
   "metadata": {},
   "source": [
    "\n",
    "# By Jayson Salazar\n",
    "\n",
    "|![twitter](attachment:twitter.png)|[@jdsalaro](https://twitter.com/jdsalaro)|\n",
    "|-|:-|\n",
    "|![linkedin](attachment:linkedin.png)|[https://linkedin.com/in/jdsalaro](http://linkedin.com/in/jdsalaro)|\n",
    "|![blog](attachment:blog.png)|[https://jdsalaro.com](https://jdsalaro.com)|"
   ]
  }
 ],
 "metadata": {
  "kernelspec": {
   "display_name": "Python 3",
   "language": "python",
   "name": "python3"
  },
  "language_info": {
   "codemirror_mode": {
    "name": "ipython",
    "version": 3
   },
   "file_extension": ".py",
   "mimetype": "text/x-python",
   "name": "python",
   "nbconvert_exporter": "python",
   "pygments_lexer": "ipython3",
   "version": "3.8.5"
  }
 },
 "nbformat": 4,
 "nbformat_minor": 4
}
